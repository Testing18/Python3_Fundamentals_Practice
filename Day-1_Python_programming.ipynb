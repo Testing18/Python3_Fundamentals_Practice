{
 "cells": [
  {
   "cell_type": "code",
   "execution_count": 3,
   "metadata": {},
   "outputs": [
    {
     "name": "stdout",
     "output_type": "stream",
     "text": [
      "Installation of Anaconda and Github is done.\n"
     ]
    }
   ],
   "source": [
    "# Installation of Anaconda and Github is done.\n",
    "\n",
    "print(\"Installation of Anaconda and Github is done.\");"
   ]
  },
  {
   "cell_type": "code",
   "execution_count": 126,
   "metadata": {
    "scrolled": true
   },
   "outputs": [
    {
     "name": "stdout",
     "output_type": "stream",
     "text": [
      "Installaion of Anaconda\n",
      "\n",
      "and\n",
      "\n",
      "Github is done.\n",
      "\n",
      "\n"
     ]
    }
   ],
   "source": [
    "# Print text in next lines.\n",
    "\n",
    "print(\"Installaion of Anaconda\\n\\nand\\n\\nGithub is done.\")\n",
    "print('\\n')"
   ]
  },
  {
   "cell_type": "code",
   "execution_count": 11,
   "metadata": {},
   "outputs": [
    {
     "name": "stdout",
     "output_type": "stream",
     "text": [
      "Installation of Anaconda: 'Done'\n",
      "Installation of Anaconda: $Done$\n",
      "Installation of Anaconda: !Done!\n",
      "Installation of Anaconda: @Done@\n",
      "Installation of Anaconda: %Done%\n",
      "Installation of Anaconda: ^Done^\n",
      "Installation of Anaconda: &Done&\n",
      "Installation of Anaconda: *Done*\n",
      "Installation of Anaconda: (Done)\n",
      "Installation of Anaconda: (_/)Done\\_?<.`~,.>)\n",
      "Installation of Anaconda: _+-{}-[]-:;='=Done_)\n"
     ]
    }
   ],
   "source": [
    "# Print text with special characters.\n",
    "print(\"Installation of Anaconda: 'Done'\")\n",
    "print(\"Installation of Anaconda: $Done$\")\n",
    "print(\"Installation of Anaconda: !Done!\")\n",
    "print(\"Installation of Anaconda: @Done@\")\n",
    "print(\"Installation of Anaconda: %Done%\")\n",
    "print(\"Installation of Anaconda: ^Done^\")\n",
    "print(\"Installation of Anaconda: &Done&\")\n",
    "print(\"Installation of Anaconda: *Done*\")\n",
    "print(\"Installation of Anaconda: (Done)\")\n",
    "print(\"Installation of Anaconda: (_/)Done\\_?<.`~,.>)\")\n",
    "print(\"Installation of Anaconda: _+-{}-[]-:;='=Done_)\")"
   ]
  },
  {
   "cell_type": "code",
   "execution_count": 47,
   "metadata": {},
   "outputs": [
    {
     "data": {
      "text/plain": [
       "'A line of text.'"
      ]
     },
     "execution_count": 47,
     "metadata": {},
     "output_type": "execute_result"
    }
   ],
   "source": [
    "# Remove newline character from the text.\n",
    "\n",
    "'A line of text.\\n\\n\\n\\n\\n\\n\\n\\n\\n'.rstrip()"
   ]
  },
  {
   "cell_type": "code",
   "execution_count": 192,
   "metadata": {},
   "outputs": [
    {
     "name": "stdout",
     "output_type": "stream",
     "text": [
      "Hello, shasha1! Welcome\n",
      "Hello,  shasha1! Welcome\n",
      "Hello, Python2 and Python3 Programs Welcome.\n"
     ]
    }
   ],
   "source": [
    "# Print fstring using system variables.\n",
    "import os\n",
    "\n",
    "a=\"Python2\"\n",
    "b=\"Python3\"\n",
    "c=\"Programs\"\n",
    "\n",
    "print('Hello, ' + os.getlogin() + '! Welcome')\n",
    "\n",
    "print(f'Hello,  {os.getlogin()}! Welcome')\n",
    "\n",
    "print(f'Hello, {a} and {b} {c} Welcome.')"
   ]
  },
  {
   "cell_type": "code",
   "execution_count": 149,
   "metadata": {},
   "outputs": [
    {
     "name": "stdout",
     "output_type": "stream",
     "text": [
      "Print 9 and 99 with sequence.\n"
     ]
    }
   ],
   "source": [
    "#Print string of individual elements of the list.\n",
    "\n",
    "print(*['Print', 9, 'and', 99, 'with', 'sequence.'])"
   ]
  },
  {
   "cell_type": "code",
   "execution_count": 150,
   "metadata": {},
   "outputs": [
    {
     "name": "stdout",
     "output_type": "stream",
     "text": [
      "hello | Python | world\n",
      "/etc/conf/service\n",
      "Home --> Traffic --> Office\n"
     ]
    }
   ],
   "source": [
    "# Print string with seperator.\n",
    "\n",
    "print('hello', 'Python', 'world', sep=' | ')\n",
    "print('/etc', 'conf', 'service', sep='/')\n",
    "print('Home', 'Traffic', 'Office', sep=' --> ')"
   ]
  },
  {
   "cell_type": "code",
   "execution_count": 174,
   "metadata": {},
   "outputs": [
    {
     "name": "stdout",
     "output_type": "stream",
     "text": [
      "lower Case:'letter case' and Upper Case:'LETTER CASE'.\n"
     ]
    }
   ],
   "source": [
    "# Print fsting in lower and upper case.\n",
    "\n",
    "a=\"Letter CASE\"\n",
    "\n",
    "f\"{a.lower()} is funny.\"\n",
    "print(f'lower Case:{a.lower()!r} and Upper Case:{a.upper()!r}.')"
   ]
  },
  {
   "cell_type": "code",
   "execution_count": 179,
   "metadata": {},
   "outputs": [
    {
     "name": "stdout",
     "output_type": "stream",
     "text": [
      "Checking output in single line...Working Fine\n"
     ]
    }
   ],
   "source": [
    "# Print next line output in single line. \n",
    "\n",
    "a = \"Working\"\n",
    "print('Checking output in single line...', end=\"\"+a)\n",
    "print(' Fine')"
   ]
  },
  {
   "cell_type": "code",
   "execution_count": 190,
   "metadata": {},
   "outputs": [
    {
     "data": {
      "text/plain": [
       "('Shaffie', '30', 'B.tech')"
      ]
     },
     "execution_count": 190,
     "metadata": {},
     "output_type": "execute_result"
    }
   ],
   "source": [
    "# print multiline strings.\n",
    "\n",
    "name=\"Shaffie\"\n",
    "age=\"30\"\n",
    "qualification=\"B.tech\"\n",
    "full_msg=(f\"{name}\", f'{age}', f'{qualification}')\n",
    "full_msg"
   ]
  }
 ],
 "metadata": {
  "kernelspec": {
   "display_name": "Python 3",
   "language": "python",
   "name": "python3"
  },
  "language_info": {
   "codemirror_mode": {
    "name": "ipython",
    "version": 3
   },
   "file_extension": ".py",
   "mimetype": "text/x-python",
   "name": "python",
   "nbconvert_exporter": "python",
   "pygments_lexer": "ipython3",
   "version": "3.7.3"
  }
 },
 "nbformat": 4,
 "nbformat_minor": 2
}
